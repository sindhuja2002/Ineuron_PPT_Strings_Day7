{
  "nbformat": 4,
  "nbformat_minor": 0,
  "metadata": {
    "colab": {
      "provenance": []
    },
    "kernelspec": {
      "name": "python3",
      "display_name": "Python 3"
    },
    "language_info": {
      "name": "python"
    }
  },
  "cells": [
    {
      "cell_type": "code",
      "execution_count": 1,
      "metadata": {
        "colab": {
          "base_uri": "https://localhost:8080/"
        },
        "id": "_Hx75WKK_wDv",
        "outputId": "6dddf513-0a55-47c5-9eac-651aa5051b8f"
      },
      "outputs": [
        {
          "output_type": "stream",
          "name": "stdout",
          "text": [
            "True\n"
          ]
        }
      ],
      "source": [
        "#question 1\n",
        "def is_isomorphic(s, t):\n",
        "    if len(s) != len(t):\n",
        "        return False\n",
        "\n",
        "    mapping = {}\n",
        "    mapped_chars = set()\n",
        "\n",
        "    for i in range(len(s)):\n",
        "        char_s = s[i]\n",
        "        char_t = t[i]\n",
        "\n",
        "        if char_s in mapping:\n",
        "            if mapping[char_s] != char_t:\n",
        "                return False\n",
        "        else:\n",
        "            if char_t in mapped_chars:\n",
        "                return False\n",
        "            mapping[char_s] = char_t\n",
        "            mapped_chars.add(char_t)\n",
        "\n",
        "    return True\n",
        "\n",
        "\n",
        "s = \"egg\"\n",
        "t = \"add\"\n",
        "result = is_isomorphic(s, t)\n",
        "print(result)  # Output: True\n",
        "\n",
        "#TC - O(n)\n",
        "#SC - O(1)"
      ]
    },
    {
      "cell_type": "code",
      "source": [
        "#question 2\n",
        "def is_strobogrammatic(num):\n",
        "    strobogrammatic_map = {\n",
        "        '0': '0',\n",
        "        '1': '1',\n",
        "        '6': '9',\n",
        "        '8': '8',\n",
        "        '9': '6'\n",
        "    }\n",
        "\n",
        "    left = 0\n",
        "    right = len(num) - 1\n",
        "\n",
        "    while left <= right:\n",
        "        if num[left] not in strobogrammatic_map or num[right] not in strobogrammatic_map:\n",
        "            return False\n",
        "\n",
        "        if strobogrammatic_map[num[left]] != num[right]:\n",
        "            return False\n",
        "\n",
        "        left += 1\n",
        "        right -= 1\n",
        "\n",
        "    return True\n",
        "\n",
        "\n",
        "num = \"69\"\n",
        "output = is_strobogrammatic(num)\n",
        "print(output)  # Output: True\n",
        "\n",
        "#TC - O(n)\n",
        "#SC - O(1)"
      ],
      "metadata": {
        "colab": {
          "base_uri": "https://localhost:8080/"
        },
        "id": "VK_XyeHh_8vS",
        "outputId": "1902a272-2d73-4f3a-d5dd-d5ca9309990d"
      },
      "execution_count": 3,
      "outputs": [
        {
          "output_type": "stream",
          "name": "stdout",
          "text": [
            "True\n"
          ]
        }
      ]
    },
    {
      "cell_type": "code",
      "source": [
        "#question 3\n",
        "def addStrings(num1, num2):\n",
        "    result = \"\"\n",
        "    carry = 0\n",
        "    i = len(num1) - 1\n",
        "    j = len(num2) - 1\n",
        "\n",
        "    while i >= 0 or j >= 0 or carry:\n",
        "        digit1 = int(num1[i]) if i >= 0 else 0\n",
        "        digit2 = int(num2[j]) if j >= 0 else 0\n",
        "\n",
        "        carry, digit_sum = divmod(digit1 + digit2 + carry, 10)\n",
        "        result = str(digit_sum) + result\n",
        "\n",
        "        i -= 1\n",
        "        j -= 1\n",
        "\n",
        "    return result\n",
        "\n",
        "num1 = \"11\"\n",
        "num2 = \"123\"\n",
        "print(addStrings(num1, num2))\n",
        "\n",
        "#TC - O(max(n,m))\n",
        "#SC - O(max(n,m))"
      ],
      "metadata": {
        "colab": {
          "base_uri": "https://localhost:8080/"
        },
        "id": "qIxVeq6EAoOA",
        "outputId": "48107951-8324-4cd4-d927-7241033efaa8"
      },
      "execution_count": 4,
      "outputs": [
        {
          "output_type": "stream",
          "name": "stdout",
          "text": [
            "134\n"
          ]
        }
      ]
    },
    {
      "cell_type": "code",
      "source": [
        "#question 4\n",
        "def reverseWords(s):\n",
        "    words = s.split()  # Split the sentence into individual words\n",
        "    reversed_words = [word[::-1] for word in words]  # Reverse each word\n",
        "\n",
        "    return ' '.join(reversed_words)  # Join the reversed words back into a sentence\n",
        "\n",
        "\n",
        "# Example usage\n",
        "s = \"Let's take LeetCode contest\"\n",
        "reversed_sentence = reverseWords(s)\n",
        "print(reversed_sentence)\n",
        "\n",
        "#TC - O(n)\n",
        "#SC - O(n)"
      ],
      "metadata": {
        "colab": {
          "base_uri": "https://localhost:8080/"
        },
        "id": "63SkqiI5BeaK",
        "outputId": "99cb875c-61a8-447e-c241-9b3bdf6b9379"
      },
      "execution_count": 5,
      "outputs": [
        {
          "output_type": "stream",
          "name": "stdout",
          "text": [
            "s'teL ekat edoCteeL tsetnoc\n"
          ]
        }
      ]
    },
    {
      "cell_type": "code",
      "source": [
        "#question 5\n",
        "def reverseStr(s, k):\n",
        "    result = \"\"\n",
        "    i = 0\n",
        "    while i < len(s):\n",
        "        # Reverse the first k characters\n",
        "        reversed_part = s[i:i+k][::-1]\n",
        "\n",
        "        # Leave the remaining characters as original\n",
        "        remaining_part = s[i+k:i+2*k]\n",
        "\n",
        "        result += reversed_part + remaining_part\n",
        "        i += 2*k\n",
        "\n",
        "    return result\n",
        "\n",
        "\n",
        "# Example usage\n",
        "s = \"abcdefg\"\n",
        "k = 2\n",
        "reversed_string = reverseStr(s, k)\n",
        "print(reversed_string)\n",
        "\n",
        "#TC - O(n)\n",
        "#SC - O(n)"
      ],
      "metadata": {
        "colab": {
          "base_uri": "https://localhost:8080/"
        },
        "id": "0J4IfZRjB_CK",
        "outputId": "cbd3ba88-fd46-475a-9a08-8fa14f2a5396"
      },
      "execution_count": 6,
      "outputs": [
        {
          "output_type": "stream",
          "name": "stdout",
          "text": [
            "bacdfeg\n"
          ]
        }
      ]
    },
    {
      "cell_type": "code",
      "source": [
        "#question 6\n",
        "def rotateString(s, goal):\n",
        "    if len(s) != len(goal):\n",
        "        return False\n",
        "\n",
        "    double_s = s + s  # Concatenate s with itself\n",
        "    if goal in double_s:\n",
        "        return True\n",
        "    else:\n",
        "        return False\n",
        "\n",
        "\n",
        "# Example usage\n",
        "s = \"abcde\"\n",
        "goal = \"cdeab\"\n",
        "can_rotate = rotateString(s, goal)\n",
        "print(can_rotate)\n",
        "\n",
        "#TC - O(n)\n",
        "#SC - O(n)"
      ],
      "metadata": {
        "colab": {
          "base_uri": "https://localhost:8080/"
        },
        "id": "D86j-cndCknC",
        "outputId": "d7b331d1-90b8-48ac-ecf6-c78064fa369a"
      },
      "execution_count": 7,
      "outputs": [
        {
          "output_type": "stream",
          "name": "stdout",
          "text": [
            "True\n"
          ]
        }
      ]
    },
    {
      "cell_type": "code",
      "source": [
        "#question 7\n",
        "def backspaceCompare(s, t):\n",
        "    def apply_backspace(string):\n",
        "        stack = []\n",
        "\n",
        "        for char in string:\n",
        "            if char != '#':\n",
        "                stack.append(char)\n",
        "            elif stack:\n",
        "                stack.pop()\n",
        "\n",
        "        return ''.join(stack)\n",
        "\n",
        "    return apply_backspace(s) == apply_backspace(t)\n",
        "\n",
        "\n",
        "# Example usage\n",
        "s = \"ab#c\"\n",
        "t = \"ad#c\"\n",
        "are_equal = backspaceCompare(s, t)\n",
        "print(are_equal)\n",
        "\n",
        "#TC - O(m+n)\n",
        "#SC - O(m+n)"
      ],
      "metadata": {
        "colab": {
          "base_uri": "https://localhost:8080/"
        },
        "id": "V128ElzyCwpR",
        "outputId": "837e1259-12f2-400e-d56e-0a1c87b10d39"
      },
      "execution_count": 8,
      "outputs": [
        {
          "output_type": "stream",
          "name": "stdout",
          "text": [
            "True\n"
          ]
        }
      ]
    },
    {
      "cell_type": "code",
      "source": [
        "#question 8\n",
        "def checkStraightLine(coordinates):\n",
        "    if len(coordinates) <= 2:\n",
        "        return True\n",
        "\n",
        "    x0, y0 = coordinates[0]\n",
        "    x1, y1 = coordinates[1]\n",
        "    for i in range(2, len(coordinates)):\n",
        "        xi, yi = coordinates[i]\n",
        "        if (y1 - y0) * (xi - x0) != (yi - y0) * (x1 - x0):\n",
        "            return False\n",
        "\n",
        "    return True\n",
        "\n",
        "\n",
        "# Example usage\n",
        "coordinates = [[1,2],[2,3],[3,4],[4,5],[5,6],[6,7]]\n",
        "is_straight_line = checkStraightLine(coordinates)\n",
        "print(is_straight_line)\n",
        "\n",
        "#TC - O(n)\n",
        "#SC - O(1)"
      ],
      "metadata": {
        "colab": {
          "base_uri": "https://localhost:8080/"
        },
        "id": "6mjasoW3C_gO",
        "outputId": "609be152-3e63-40f9-b90a-8db21a18efee"
      },
      "execution_count": 9,
      "outputs": [
        {
          "output_type": "stream",
          "name": "stdout",
          "text": [
            "True\n"
          ]
        }
      ]
    },
    {
      "cell_type": "code",
      "source": [],
      "metadata": {
        "id": "xqYIDgo-DYsT"
      },
      "execution_count": null,
      "outputs": []
    }
  ]
}